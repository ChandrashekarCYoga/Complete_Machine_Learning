{
  "nbformat": 4,
  "nbformat_minor": 0,
  "metadata": {
    "colab": {
      "name": "introduction-to-scikit-learn.ipynb",
      "provenance": [],
      "authorship_tag": "ABX9TyMxWuV3nD78MOyX5GYer9Sk",
      "include_colab_link": true
    },
    "kernelspec": {
      "name": "python3",
      "display_name": "Python 3"
    }
  },
  "cells": [
    {
      "cell_type": "markdown",
      "metadata": {
        "id": "view-in-github",
        "colab_type": "text"
      },
      "source": [
        "<a href=\"https://colab.research.google.com/github/ChandrashekarCYoga/Complete_Machine_Learning/blob/master/data-science-and-ml-tools/introduction_to_scikit_learn.ipynb\" target=\"_parent\"><img src=\"https://colab.research.google.com/assets/colab-badge.svg\" alt=\"Open In Colab\"/></a>"
      ]
    },
    {
      "cell_type": "markdown",
      "metadata": {
        "id": "pR4FEzNQs1AR",
        "colab_type": "text"
      },
      "source": [
        "### Introduction to Scikit-Learn (sklearn)\n",
        "\n",
        "This notebook demonstrates some of the most useful functions of the beautiful Scikit-Learn library.\n",
        "\n",
        "What we're going to cover:\n",
        "\n",
        "0. An end-to-end Scikit-Learn worfklow\n",
        "1. Getting the data ready\n",
        "2. Choosing the right maching learning estimator/aglorithm/model for your problem\n",
        "3. Fitting your chosen machine learning model to data and using it to make a prediction\n",
        "4. Evaluting a machine learning model\n",
        "5. Improving predictions through experimentation (hyperparameter tuning)\n",
        "6. Saving and loading a pretrained model\n",
        "7. Putting it all together in a pipeline"
      ]
    },
    {
      "cell_type": "markdown",
      "metadata": {
        "id": "xcRxOx72ymO-",
        "colab_type": "text"
      },
      "source": [
        "## 0. An end-to-end Scikit-Learn worfklow"
      ]
    },
    {
      "cell_type": "code",
      "metadata": {
        "id": "M-Vjb1zxtS9j",
        "colab_type": "code",
        "colab": {}
      },
      "source": [
        "# Standard imports\n",
        "%matplotlib inline\n",
        "import matplotlib.pyplot as plt\n",
        "import numpy as np\n",
        "import pandas as pd"
      ],
      "execution_count": null,
      "outputs": []
    },
    {
      "cell_type": "markdown",
      "metadata": {
        "id": "o-Q8KQA8umUw",
        "colab_type": "text"
      },
      "source": [
        "## 1. Get the data ready"
      ]
    }
  ]
}